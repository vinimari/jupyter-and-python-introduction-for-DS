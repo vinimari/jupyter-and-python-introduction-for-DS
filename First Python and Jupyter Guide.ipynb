{
 "cells": [
  {
   "cell_type": "markdown",
   "metadata": {},
   "source": [
    "## My first Python Notebook with Jupyter  \n",
    "Data science, here i come! "
   ]
  },
  {
   "cell_type": "code",
   "execution_count": null,
   "metadata": {},
   "outputs": [
    {
     "name": "stdout",
     "output_type": "stream",
     "text": [
      "Hi daddy!\n"
     ]
    }
   ],
   "source": [
    "# Say hi for your new daddy \n",
    "print(\"Hi daddy!\")"
   ]
  },
  {
   "cell_type": "markdown",
   "metadata": {},
   "source": [
    "### Some userful shortcuts\n",
    "1. A :  Create a new cell below \n",
    "2. Ctrl + Shift + Enter :  Create a new cell above \n",
    "3. M :  Change the language for markdown \n",
    "4. Ctrl + Alt + Enter : Stop editing a markdown cell\n",
    "5. Crtl + Alt + Enter : Execute the cell  "
   ]
  },
  {
   "cell_type": "markdown",
   "metadata": {},
   "source": [
    "### Userfuls Atribuitions for Variables\n",
    "O tipo das variavéis em Python não precisam ser declaradas! São automaticamente detectadas. "
   ]
  },
  {
   "cell_type": "code",
   "execution_count": 4,
   "metadata": {},
   "outputs": [
    {
     "name": "stdout",
     "output_type": "stream",
     "text": [
      "Variable    Type      Data/Info\n",
      "-------------------------------\n",
      "a           int       1\n",
      "b           float     2.5\n",
      "c           str       hi\n",
      "debugpy     module    <module 'debugpy' from '/<...>ges/debugpy/__init__.py'>\n",
      "ipykernel   module    <module 'ipykernel' from <...>s/ipykernel/__init__.py'>\n",
      "os          module    <module 'os' from '/home/<...>da3/lib/python3.9/os.py'>\n",
      "sys         module    <module 'sys' (built-in)>\n"
     ]
    }
   ],
   "source": [
    "a,b,c = 1,2.5,\"hi\" # podem ser multiplamente relacionadas há valores, utilizando \",\" comma \n",
    "\n",
    "%whos #exibe variaveis alocadas e seus tipos  "
   ]
  },
  {
   "cell_type": "markdown",
   "metadata": {},
   "source": [
    "### Variables and operators\n",
    "\n",
    "Não são aplicáveis apenas para números inteiros. Também funcionam com alguns outros de tipos de variáveis"
   ]
  },
  {
   "cell_type": "code",
   "execution_count": null,
   "metadata": {},
   "outputs": [],
   "source": [
    "a = 5+5 # adição\n",
    "b = 5-5 # subtração \n",
    "c = 5/5 # divisão \n",
    "d = 5%5 # mod, = resto, nesse caso será 0 \n",
    "e = 5*5 # multiplicação \n",
    "f = 5//5 # divisão truncada \n",
    "g = 5**5 # elevado a    "
   ]
  },
  {
   "cell_type": "markdown",
   "metadata": {},
   "source": [
    "### Type bool and Comparisons "
   ]
  },
  {
   "cell_type": "code",
   "execution_count": 41,
   "metadata": {},
   "outputs": [
    {
     "name": "stdout",
     "output_type": "stream",
     "text": [
      "igual? False\n",
      "diferente? True\n",
      "é maior? False\n",
      "é menor? True\n",
      "é menor ou igual? True\n",
      "é maior ou igual? False\n"
     ]
    }
   ],
   "source": [
    "a = 1 \n",
    "b = 2 \n",
    "\n",
    "print('igual?', a == b) # a é igual a b? \n",
    "print('diferente?', a != b) # a é diferente de b? \n",
    "print('é maior?', a > b) # a é maior que b? \n",
    "print('é menor?', a < b) # a é menor que b? \n",
    "print('é menor ou igual?', a <= b) # a é menor ou igual a b? \n",
    "print('é maior ou igual?', a >= b) # a é maior ou igual a b? \n"
   ]
  },
  {
   "cell_type": "markdown",
   "metadata": {},
   "source": [
    "**Atribuindo valor a uma variavel Bool** "
   ]
  },
  {
   "cell_type": "code",
   "execution_count": 42,
   "metadata": {},
   "outputs": [
    {
     "name": "stdout",
     "output_type": "stream",
     "text": [
      "1 < 2: True\n",
      "1 > 2: False\n",
      "5 == 1 False\n"
     ]
    }
   ],
   "source": [
    "# r = tipo bool (True or False)\n",
    "r = 1 < 2 \n",
    "print('1 < 2:', r)\n",
    "\n",
    "r = 1 > 2\n",
    "print('1 > 2:', r)\n",
    "\n",
    "r = 5 == 1\n",
    "print('5 == 1', r)"
   ]
  },
  {
   "cell_type": "markdown",
   "metadata": {},
   "source": [
    "**Comparações and || or**"
   ]
  },
  {
   "cell_type": "code",
   "execution_count": 43,
   "metadata": {},
   "outputs": [
    {
     "name": "stdout",
     "output_type": "stream",
     "text": [
      "1° and: True\n",
      "2° and: False\n",
      "1° or: True\n",
      "2° or: False\n"
     ]
    }
   ],
   "source": [
    "print('1° and:', (1==1) and (2==2)) \n",
    "print('2° and:', (1==1) and (2==1)) \n",
    "print('1° or:', (1==1) or (1==2)) \n",
    "print('2° or:', (2==1) or (1==2))"
   ]
  },
  {
   "cell_type": "markdown",
   "metadata": {},
   "source": [
    "### Userful Functions \n",
    "1. *round()* = arredonda o número float para o número integer mais próximo \n",
    "2. *divmod(x, y)* = imprime o cociente e o resto em uma tupla\n",
    "3. *isinstance()* = retorna True, caso o argumento seja da classe especificada\n",
    "4. *input()* = recebe uma entrada do teclado\n",
    "5. *help()* = recebe como parametro outra função, exibirá informações da documentação sobre essa nova função "
   ]
  },
  {
   "cell_type": "code",
   "execution_count": 58,
   "metadata": {},
   "outputs": [
    {
     "name": "stdout",
     "output_type": "stream",
     "text": [
      "6\n",
      "5\n",
      "4.89\n"
     ]
    }
   ],
   "source": [
    "# round \n",
    "\n",
    "print(round(5.7))\n",
    "print(round(5.3)) \n",
    "print(round(4.89,10))"
   ]
  },
  {
   "cell_type": "code",
   "execution_count": 57,
   "metadata": {},
   "outputs": [
    {
     "name": "stdout",
     "output_type": "stream",
     "text": [
      "(5, 2)\n",
      "(2, 0)\n",
      "(1, 0)\n"
     ]
    }
   ],
   "source": [
    "print(divmod(27,5))\n",
    "print(divmod(10,5))\n",
    "print(divmod(5,5))"
   ]
  },
  {
   "cell_type": "code",
   "execution_count": 61,
   "metadata": {},
   "outputs": [
    {
     "name": "stdout",
     "output_type": "stream",
     "text": [
      "True\n",
      "True\n"
     ]
    }
   ],
   "source": [
    "print(isinstance(5, int))\n",
    "print(isinstance(1.0, (int,float))) # se for algum dos tipos especificados retorna verdadeiro"
   ]
  },
  {
   "cell_type": "code",
   "execution_count": 65,
   "metadata": {},
   "outputs": [
    {
     "name": "stdout",
     "output_type": "stream",
     "text": [
      "The number is: 5\n",
      "3\n"
     ]
    }
   ],
   "source": [
    "x =  input('Enter a number: ') # armazenando em variavel\n",
    "print('The number is:', x) \n",
    "\n",
    "print(input('Enter a second number: ')) # não armazenando em variavel, apenas imprimindo"
   ]
  },
  {
   "cell_type": "code",
   "execution_count": 72,
   "metadata": {},
   "outputs": [
    {
     "name": "stdout",
     "output_type": "stream",
     "text": [
      "Help on built-in function isinstance in module builtins:\n",
      "\n",
      "isinstance(obj, class_or_tuple, /)\n",
      "    Return whether an object is an instance of a class or of a subclass thereof.\n",
      "    \n",
      "    A tuple, as in ``isinstance(x, (A, B, ...))``, may be given as the target to\n",
      "    check against. This is equivalent to ``isinstance(x, A) or isinstance(x, B)\n",
      "    or ...`` etc.\n",
      "\n"
     ]
    }
   ],
   "source": [
    "help(isinstance)"
   ]
  },
  {
   "cell_type": "markdown",
   "metadata": {},
   "source": [
    "### Control Flow (IF/Else Condition)"
   ]
  },
  {
   "cell_type": "code",
   "execution_count": 87,
   "metadata": {},
   "outputs": [
    {
     "name": "stdout",
     "output_type": "stream",
     "text": [
      "They are different!\n",
      "A is lower than B! 5 6\n"
     ]
    }
   ],
   "source": [
    "# recebe dois valores e informa se são iguais, diferentes, ou qual o maior! \n",
    "a = input('Enter a number: ')\n",
    "b = input('Enter a second number: ')\n",
    "\n",
    "if(a == b): # a identação é o que define o que está contido dentro do if/else \n",
    "  print('They have the same value:', a, b) \n",
    "  print('I am still inside if condition!') \n",
    "else:\n",
    "  print('They are different!')\n",
    "if(a > b): \n",
    "  print('A é bigger than B!', a, b)\n",
    "elif(a < b): \n",
    "  print('A is lower than B!', a, b)"
   ]
  },
  {
   "cell_type": "markdown",
   "metadata": {},
   "source": [
    "### Control Flow (Loops)\n",
    "1. *While* \n",
    "2. *For*"
   ]
  },
  {
   "cell_type": "markdown",
   "metadata": {},
   "source": [
    "**Sintaxe While**"
   ]
  },
  {
   "cell_type": "code",
   "execution_count": 94,
   "metadata": {},
   "outputs": [
    {
     "name": "stdout",
     "output_type": "stream",
     "text": [
      "1\n",
      "2\n",
      "3\n",
      "4\n",
      "5\n",
      "done!\n"
     ]
    }
   ],
   "source": [
    "n = int(input('Enter a number: '))  \n",
    "cont = 0\n",
    "\n",
    "while (cont < n):\n",
    "  cont += 1 \n",
    "  print(cont)\n",
    "print('done!')"
   ]
  },
  {
   "cell_type": "markdown",
   "metadata": {},
   "source": [
    "**Programa que imprime par e impares**"
   ]
  },
  {
   "cell_type": "code",
   "execution_count": 96,
   "metadata": {},
   "outputs": [
    {
     "name": "stdout",
     "output_type": "stream",
     "text": [
      "é impar 1\n",
      "é par 2\n",
      "é impar 3\n",
      "é par 4\n",
      "é impar 5\n",
      "done!\n"
     ]
    }
   ],
   "source": [
    "n = int(input('Enter a number'))\n",
    "cont = 0 \n",
    "\n",
    "while (cont < n): \n",
    "  cont += 1 \n",
    "  if (cont % 2 == 0): \n",
    "    print('é par', cont)\n",
    "  else:\n",
    "    print('é impar', cont)\n",
    "print('done!') "
   ]
  },
  {
   "cell_type": "markdown",
   "metadata": {},
   "source": [
    "**Aqui é apresentado o conceito de lista e for**  \n",
    "  Uma lista é representada por colchetes e pode conter mais de um tipo de variavel"
   ]
  },
  {
   "cell_type": "code",
   "execution_count": 6,
   "metadata": {},
   "outputs": [
    {
     "name": "stdout",
     "output_type": "stream",
     "text": [
      "1\n",
      "2\n",
      "3\n",
      "4\n",
      "5\n",
      "6\n",
      "7\n",
      "8\n",
      "9\n",
      "10\n",
      "[0, 1, 4, 9, 16, 25, 36, 49, 64, 81]\n"
     ]
    }
   ],
   "source": [
    "L = [] \n",
    "\n",
    "# primeira sintaxe do uso 'for'\n",
    "for i in range(10):  \n",
    "  print(i+1)\n",
    "  L.append(i**2) # adicionando itens a lista\n",
    "print(L)"
   ]
  },
  {
   "cell_type": "code",
   "execution_count": 8,
   "metadata": {},
   "outputs": [
    {
     "name": "stdout",
     "output_type": "stream",
     "text": [
      "0\n",
      "2\n",
      "4\n",
      "6\n",
      "8\n",
      "[0, 4, 16, 36, 64]\n"
     ]
    }
   ],
   "source": [
    "L = []\n",
    "\n",
    "# segunda sintaxe do uso'for', mais comum\n",
    "for i in range(0,10,2): # sintaxe da função range: 'i' iniciará em 0, até 10, será somado de 2 em 2 \n",
    "  print(i)\n",
    "  L.append(i**2)\n",
    "print(L)"
   ]
  },
  {
   "cell_type": "code",
   "execution_count": 12,
   "metadata": {},
   "outputs": [
    {
     "name": "stdout",
     "output_type": "stream",
     "text": [
      "naruto\n",
      "neji\n",
      "sasuke\n"
     ]
    }
   ],
   "source": [
    "L = ['naruto', 'neji', 'sasuke']\n",
    "\n",
    "# terceira sintaxe do uso 'for'\n",
    "for i in L: # percorre toda a lista um por um, atribui o valor da lista em 'i'\n",
    "  print(i) # imprime um a um os itens da lista"
   ]
  },
  {
   "cell_type": "markdown",
   "metadata": {},
   "source": [
    "**Explorando um Dicionário**  \n",
    "Introduzindo o conceito de Sets, são delimitados por chaves. Não aceitam itens repetidos e não são armazenados de forma ordenada. Não podem ser acessados por uma posição de índice. "
   ]
  },
  {
   "cell_type": "code",
   "execution_count": 16,
   "metadata": {},
   "outputs": [
    {
     "name": "stdout",
     "output_type": "stream",
     "text": [
      "N Naruto\n",
      "R Rock Lee\n",
      "G Gaara\n"
     ]
    }
   ],
   "source": [
    "D = {'N':'Naruto', \"R\":'Rock Lee', 'G':'Gaara'} #Atribuindo valores em letras. Sets são interessantes nesse caso já que não permitem repetição\n",
    "\n",
    "for i in D: \n",
    "  print(i,D[i]) # ocorre a impressão do 'i (letra)' e valor atribuido a ele (nome) "
   ]
  },
  {
   "cell_type": "markdown",
   "metadata": {},
   "source": [
    "**Exercício**  \n",
    "Dada uma lista [1, 2, 4, -5, 7, 9, 3, 2], faça uma nova lista contendo os itens ordenados do min para o max"
   ]
  },
  {
   "cell_type": "code",
   "execution_count": 45,
   "metadata": {},
   "outputs": [
    {
     "name": "stdout",
     "output_type": "stream",
     "text": [
      "Lista inicial [1, 2, 4, -5, 7, 9, 3, 2]\n",
      "[-5, 2, 4, 1, 7, 9, 3, 2]\n",
      "[-5, 1, 4, 2, 7, 9, 3, 2]\n",
      "[-5, 1, 2, 4, 7, 9, 3, 2]\n",
      "[-5, 1, 2, 2, 7, 9, 4, 3]\n",
      "[-5, 1, 2, 2, 3, 9, 7, 4]\n",
      "[-5, 1, 2, 2, 3, 4, 9, 7]\n",
      "[-5, 1, 2, 2, 3, 4, 7, 9]\n",
      "Lista final: [-5, 1, 2, 2, 3, 4, 7, 9]\n"
     ]
    }
   ],
   "source": [
    "L = [1, 2, 4, -5, 7, 9, 3, 2]\n",
    "\n",
    "print('Lista inicial', L)\n",
    "for i in range(len(L)-1): \n",
    "  min_num = L[i] \n",
    "  for i_srch in range(i, len(L)): \n",
    "    if (L[i_srch] < min_num):\n",
    "      min_num = L[i_srch]  # define-se o menor número da busca\n",
    "      tmp_max = L[i] # guardo o numero da extremidade esquerda, que será trocado\n",
    "      L[i] = min_num # o menor numero vai para a extremidade \n",
    "      L[i_srch] = tmp_max # o numero da extremidade vai para a posição do menor \n",
    "  print(L) \n",
    "\n",
    "print('Lista final:', L)"
   ]
  },
  {
   "cell_type": "markdown",
   "metadata": {},
   "source": [
    "## Definição de Função\n",
    "\n",
    "para declarar qualquer função, a sintaxe é:  \n",
    "> *def nomedafunção():*    \n",
    ">> *comando*"
   ]
  },
  {
   "cell_type": "code",
   "execution_count": 15,
   "metadata": {},
   "outputs": [
    {
     "name": "stdout",
     "output_type": "stream",
     "text": [
      "10\n",
      "The task was successful\n",
      "Moving to the next task\n",
      "Send me the next task\n",
      "None\n",
      "Help on function printSucess in module __main__:\n",
      "\n",
      "printSucess()\n",
      "    Essa função imprime algumas mensagens informando que a tarefa foi concluida com sucesso.\n",
      "\n"
     ]
    }
   ],
   "source": [
    "# declaração da função printSucess \n",
    "def printSucess():\n",
    "  # definição da docstring da função, deve informar o que a função está fazendo. \n",
    "  \"\"\"\n",
    "    Essa função imprime algumas mensagens informando que a tarefa foi concluida com sucesso. \n",
    "  \"\"\" \n",
    "  print('The task was successful')\n",
    "  print('Moving to the next task')\n",
    "  print('Send me the next task') \n",
    "\n",
    "print(5+5)\n",
    "print(printSucess())\n",
    "\n",
    "help(printSucess)"
   ]
  },
  {
   "cell_type": "code",
   "execution_count": 21,
   "metadata": {},
   "outputs": [
    {
     "name": "stdout",
     "output_type": "stream",
     "text": [
      "541 é impar\n"
     ]
    }
   ],
   "source": [
    "# definição de uma função com argumento \n",
    "def seImparPar(num): \n",
    "  \"\"\" \n",
    "    This function tells if a number is even or odd \n",
    "  \"\"\"\n",
    "  if (num % 2 == 0):\n",
    "    print(num, 'é par')\n",
    "  else: \n",
    "    print(num, 'é impar') \n",
    "\n",
    "# Programa Invocando a função \n",
    "v = int(input())\n",
    "seImparPar(v)\n",
    "  "
   ]
  },
  {
   "cell_type": "code",
   "execution_count": 27,
   "metadata": {},
   "outputs": [
    {
     "name": "stdout",
     "output_type": "stream",
     "text": [
      "10\n"
     ]
    }
   ],
   "source": [
    "# definindo uma função com return\n",
    "def myadd(a,b):\n",
    "    sumValue = a+b \n",
    "    return sumValue\n",
    "\n",
    "print(myadd(2, 8))"
   ]
  },
  {
   "cell_type": "code",
   "execution_count": 30,
   "metadata": {},
   "outputs": [
    {
     "name": "stdout",
     "output_type": "stream",
     "text": [
      "15\n",
      "6\n"
     ]
    }
   ],
   "source": [
    "## definindo uma função sem quantidade de parametros definidas\n",
    "def add(*args): # ao definir um argumento com a sintaxe: *argumento, o argumento irá funcionar como uma lista  \n",
    "  sum = 0 \n",
    "  for i in range(len(args)): \n",
    "    sum+=args[i]\n",
    "  return sum\n",
    "\n",
    "print(add(1,2,3,4,5))  \n",
    "print(add(1,2,3))"
   ]
  },
  {
   "cell_type": "markdown",
   "metadata": {},
   "source": [
    "### Trabalhando com Funções em Módulos"
   ]
  },
  {
   "cell_type": "markdown",
   "metadata": {},
   "source": [
    "import sys   \n",
    "sys.path.append('caminho da pasta contendo o arquivo py')  \n",
    "import minhafunção.py as f   \n"
   ]
  },
  {
   "cell_type": "markdown",
   "metadata": {},
   "source": [
    "##  Estrutura de Dados\n",
    "\n",
    "![image info](./EstruturasdedadosPython-Lista,Tupla,Dicionário,Sets.png)\n",
    "\n",
    "\n",
    "\n"
   ]
  }
 ],
 "metadata": {
  "interpreter": {
   "hash": "87924e3b2141489f0f1f241c9389e2f4a6ddcd829567d333b257f0a8ccc73a3e"
  },
  "kernelspec": {
   "display_name": "Python 3.9.7 64-bit ('base': conda)",
   "language": "python",
   "name": "python3"
  },
  "language_info": {
   "codemirror_mode": {
    "name": "ipython",
    "version": 3
   },
   "file_extension": ".py",
   "mimetype": "text/x-python",
   "name": "python",
   "nbconvert_exporter": "python",
   "pygments_lexer": "ipython3",
   "version": "3.9.7"
  },
  "orig_nbformat": 4
 },
 "nbformat": 4,
 "nbformat_minor": 2
}
